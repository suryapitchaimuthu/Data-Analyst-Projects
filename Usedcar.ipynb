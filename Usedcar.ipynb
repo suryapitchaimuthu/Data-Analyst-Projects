{
 "cells": [
  {
   "cell_type": "code",
   "execution_count": 1,
   "id": "b0a3300d",
   "metadata": {},
   "outputs": [],
   "source": [
    "import pandas as pd\n",
    "import seaborn as sns\n",
    "import matplotlib.pyplot as plt\n",
    "from sklearn.model_selection import train_test_split\n",
    "from sklearn.linear_model import LinearRegression\n",
    "from sklearn.tree import DecisionTreeRegressor\n",
    "from sklearn.ensemble import RandomForestRegressor\n",
    "from sklearn.metrics import mean_squared_error"
   ]
  },
  {
   "cell_type": "code",
   "execution_count": 2,
   "id": "ac58fadf",
   "metadata": {},
   "outputs": [],
   "source": [
    "cardata=pd.read_csv(\"/Users/surya/Downloads/archive-2/cardata.csv\")"
   ]
  },
  {
   "cell_type": "code",
   "execution_count": null,
   "id": "1e63cbef",
   "metadata": {
    "scrolled": true
   },
   "outputs": [],
   "source": [
    "cardata.head()"
   ]
  },
  {
   "cell_type": "code",
   "execution_count": null,
   "id": "5b13d58c",
   "metadata": {},
   "outputs": [],
   "source": [
    "cardata.info()"
   ]
  },
  {
   "cell_type": "markdown",
   "id": "777a4180",
   "metadata": {},
   "source": [
    "### Selecting first 15 rows"
   ]
  },
  {
   "cell_type": "code",
   "execution_count": 3,
   "id": "78dac1d7",
   "metadata": {},
   "outputs": [],
   "source": [
    "c1=cardata.iloc[:,0:11]"
   ]
  },
  {
   "cell_type": "code",
   "execution_count": null,
   "id": "37b57308",
   "metadata": {},
   "outputs": [],
   "source": [
    "c1.info()"
   ]
  },
  {
   "cell_type": "code",
   "execution_count": null,
   "id": "2bf34774",
   "metadata": {
    "scrolled": true
   },
   "outputs": [],
   "source": [
    "c2['Make']"
   ]
  },
  {
   "cell_type": "markdown",
   "id": "da6bd914",
   "metadata": {},
   "source": [
    "### Removing Fuel Types"
   ]
  },
  {
   "cell_type": "code",
   "execution_count": 4,
   "id": "e4f0d114",
   "metadata": {},
   "outputs": [],
   "source": [
    "Fuelx=['Petrol+CNG','Petrol+LPG','CNG+CNG','CNG','LPG']"
   ]
  },
  {
   "cell_type": "markdown",
   "id": "66426321",
   "metadata": {},
   "source": [
    "### Filtering Year,Price,Fuel Type"
   ]
  },
  {
   "cell_type": "code",
   "execution_count": 5,
   "id": "78b9554f",
   "metadata": {},
   "outputs": [],
   "source": [
    "c2=c1[(c1[\"Year\"]>2010)& (c1['Price']<4000000)&(c1['Fuel Type']!='Fuelx') ]"
   ]
  },
  {
   "cell_type": "code",
   "execution_count": null,
   "id": "15d95de8",
   "metadata": {
    "scrolled": true
   },
   "outputs": [],
   "source": [
    "c2.info()"
   ]
  },
  {
   "cell_type": "code",
   "execution_count": null,
   "id": "24663d2c",
   "metadata": {
    "scrolled": true
   },
   "outputs": [],
   "source": [
    "c2.describe(include='all')"
   ]
  },
  {
   "cell_type": "code",
   "execution_count": null,
   "id": "0088fd36",
   "metadata": {},
   "outputs": [],
   "source": [
    "c3= c2[(c2['Location'] == 'Bangalore')&(c2['Make']=='Maruti Suzuki')].groupby('Owner')['Price'].mean()"
   ]
  },
  {
   "cell_type": "code",
   "execution_count": null,
   "id": "a26a74f2",
   "metadata": {},
   "outputs": [],
   "source": [
    "c3"
   ]
  },
  {
   "cell_type": "code",
   "execution_count": 17,
   "id": "bcf385fb",
   "metadata": {},
   "outputs": [],
   "source": [
    "c4=c2[(c2['Location'] == 'Bangalore')&(c2['cm']=='Swift')]['Price'].mean()"
   ]
  },
  {
   "cell_type": "code",
   "execution_count": 18,
   "id": "20902f9c",
   "metadata": {},
   "outputs": [
    {
     "data": {
      "text/plain": [
       "726666.6666666666"
      ]
     },
     "execution_count": 18,
     "metadata": {},
     "output_type": "execute_result"
    }
   ],
   "source": [
    "c4"
   ]
  },
  {
   "cell_type": "code",
   "execution_count": null,
   "id": "6bb3c5cc",
   "metadata": {
    "scrolled": false
   },
   "outputs": [],
   "source": [
    "sns.barplot(x=\"Owner\",y=\"Price\",data=c2)"
   ]
  },
  {
   "cell_type": "code",
   "execution_count": null,
   "id": "8c315c05",
   "metadata": {
    "scrolled": false
   },
   "outputs": [],
   "source": [
    "sns.scatterplot(x=\"Year\",y=\"Price\",hue='Make',data=c2)"
   ]
  },
  {
   "cell_type": "code",
   "execution_count": null,
   "id": "f1d9f0ad",
   "metadata": {},
   "outputs": [],
   "source": [
    "sns.barplot(x=\"Make\",y=\"Price\",data=c2)\n",
    "plt.xticks(rotation=90)\n",
    "plt.show()"
   ]
  },
  {
   "cell_type": "code",
   "execution_count": null,
   "id": "b95b4f2a",
   "metadata": {
    "scrolled": true
   },
   "outputs": [],
   "source": [
    "sns.scatterplot(x=\"Kilometer\",y=\"Price\",hue=\"Fuel Type\",data=cardata)"
   ]
  },
  {
   "cell_type": "code",
   "execution_count": null,
   "id": "7a283242",
   "metadata": {},
   "outputs": [],
   "source": [
    "c2.head(10)"
   ]
  },
  {
   "cell_type": "code",
   "execution_count": null,
   "id": "c9d373f1",
   "metadata": {},
   "outputs": [],
   "source": [
    "c2.head()"
   ]
  },
  {
   "cell_type": "code",
   "execution_count": 6,
   "id": "6f6c5108",
   "metadata": {
    "scrolled": true
   },
   "outputs": [],
   "source": [
    " a=c2['Model'].str.split(' ', expand=True)"
   ]
  },
  {
   "cell_type": "code",
   "execution_count": null,
   "id": "ad61befa",
   "metadata": {},
   "outputs": [],
   "source": [
    "a.describe()"
   ]
  },
  {
   "cell_type": "code",
   "execution_count": 7,
   "id": "9cd98c3c",
   "metadata": {},
   "outputs": [],
   "source": [
    "z=a[0]"
   ]
  },
  {
   "cell_type": "code",
   "execution_count": null,
   "id": "b6a5e555",
   "metadata": {},
   "outputs": [],
   "source": [
    "z"
   ]
  },
  {
   "cell_type": "code",
   "execution_count": 12,
   "id": "ab338021",
   "metadata": {},
   "outputs": [
    {
     "name": "stderr",
     "output_type": "stream",
     "text": [
      "/var/folders/z8/bn08xxkn59vf8m8163fd09pw0000gn/T/ipykernel_41316/3502453147.py:1: SettingWithCopyWarning: \n",
      "A value is trying to be set on a copy of a slice from a DataFrame.\n",
      "Try using .loc[row_indexer,col_indexer] = value instead\n",
      "\n",
      "See the caveats in the documentation: https://pandas.pydata.org/pandas-docs/stable/user_guide/indexing.html#returning-a-view-versus-a-copy\n",
      "  c2['cm']=z\n",
      "/var/folders/z8/bn08xxkn59vf8m8163fd09pw0000gn/T/ipykernel_41316/3502453147.py:2: SettingWithCopyWarning: \n",
      "A value is trying to be set on a copy of a slice from a DataFrame\n",
      "\n",
      "See the caveats in the documentation: https://pandas.pydata.org/pandas-docs/stable/user_guide/indexing.html#returning-a-view-versus-a-copy\n",
      "  c2.drop('Model',axis=1,inplace=True)\n"
     ]
    }
   ],
   "source": [
    "c2['cm']=z\n",
    "c2.drop('Model',axis=1,inplace=True)"
   ]
  },
  {
   "cell_type": "code",
   "execution_count": 13,
   "id": "2d38fb8b",
   "metadata": {},
   "outputs": [
    {
     "name": "stdout",
     "output_type": "stream",
     "text": [
      "<class 'pandas.core.frame.DataFrame'>\n",
      "Int64Index: 1755 entries, 0 to 2058\n",
      "Data columns (total 11 columns):\n",
      " #   Column        Non-Null Count  Dtype \n",
      "---  ------        --------------  ----- \n",
      " 0   Make          1755 non-null   object\n",
      " 1   Price         1755 non-null   int64 \n",
      " 2   Year          1755 non-null   int64 \n",
      " 3   Kilometer     1755 non-null   int64 \n",
      " 4   Fuel Type     1755 non-null   object\n",
      " 5   Transmission  1755 non-null   object\n",
      " 6   Location      1755 non-null   object\n",
      " 7   Color         1755 non-null   object\n",
      " 8   Owner         1755 non-null   object\n",
      " 9   Seller Type   1755 non-null   object\n",
      " 10  cm            1755 non-null   object\n",
      "dtypes: int64(3), object(8)\n",
      "memory usage: 164.5+ KB\n"
     ]
    }
   ],
   "source": [
    "c2.info()"
   ]
  },
  {
   "cell_type": "markdown",
   "id": "8f7799b9",
   "metadata": {},
   "source": [
    "### Model Data Split"
   ]
  },
  {
   "cell_type": "code",
   "execution_count": null,
   "id": "4b6c5aae",
   "metadata": {},
   "outputs": [],
   "source": [
    "x=c2.drop('Price',axis=1)"
   ]
  },
  {
   "cell_type": "code",
   "execution_count": null,
   "id": "c3144fdf",
   "metadata": {},
   "outputs": [],
   "source": [
    "y=c2['Price']"
   ]
  },
  {
   "cell_type": "code",
   "execution_count": null,
   "id": "8d9117a3",
   "metadata": {
    "scrolled": true
   },
   "outputs": [],
   "source": [
    "x_train,x_test,y_train,y_test = train_test_split(x,y,test_size=0.3,random_state=42)"
   ]
  },
  {
   "cell_type": "code",
   "execution_count": null,
   "id": "336ab765",
   "metadata": {},
   "outputs": [],
   "source": [
    "#Dropping multiple columns \n",
    "cardata.drop(cardata.columns[[15,16,17,18,19]],axis=1, inplace=True)"
   ]
  },
  {
   "cell_type": "code",
   "execution_count": null,
   "id": "874fb482",
   "metadata": {
    "scrolled": true
   },
   "outputs": [],
   "source": [
    "cardata.info()"
   ]
  },
  {
   "cell_type": "code",
   "execution_count": null,
   "id": "afcd9373",
   "metadata": {
    "scrolled": true
   },
   "outputs": [],
   "source": [
    "cardata.describe(include='all')"
   ]
  },
  {
   "cell_type": "code",
   "execution_count": null,
   "id": "c94206bf",
   "metadata": {},
   "outputs": [],
   "source": [
    "ownerfil=['First']\n",
    "locfil=['Bangalore']\n",
    "Makefil=['Maruti Suzuki']\n",
    "Modelfil=['Swift']"
   ]
  },
  {
   "cell_type": "code",
   "execution_count": null,
   "id": "94e7e752",
   "metadata": {},
   "outputs": [],
   "source": [
    "filtered = c3[c3[\"Owner\"].isin(ownerfil) & \n",
    "              c3[\"Location\"].isin(locfil) & c3[\"Make\"].isin(Makefil)& c3[\"Model\"].isin(\"Modelfil\")]"
   ]
  },
  {
   "cell_type": "code",
   "execution_count": null,
   "id": "c4e517c6",
   "metadata": {},
   "outputs": [],
   "source": [
    "c3.describe()"
   ]
  },
  {
   "cell_type": "code",
   "execution_count": null,
   "id": "24c22560",
   "metadata": {},
   "outputs": [],
   "source": [
    "lr=LinearRegression"
   ]
  },
  {
   "cell_type": "code",
   "execution_count": null,
   "id": "d67011d2",
   "metadata": {},
   "outputs": [],
   "source": [
    "c4= c2[(c2['Location'] == 'Bangalore')].groupby('Owner')['Pridd"
   ]
  },
  {
   "cell_type": "code",
   "execution_count": null,
   "id": "9888dfcc",
   "metadata": {},
   "outputs": [],
   "source": [
    "c4"
   ]
  },
  {
   "cell_type": "code",
   "execution_count": null,
   "id": "fdb25cda",
   "metadata": {},
   "outputs": [],
   "source": [
    "lr.fit(x_train,y_train)"
   ]
  },
  {
   "cell_type": "code",
   "execution_count": null,
   "id": "b16be813",
   "metadata": {},
   "outputs": [],
   "source": []
  },
  {
   "cell_type": "code",
   "execution_count": null,
   "id": "59a5cf9f",
   "metadata": {},
   "outputs": [],
   "source": []
  },
  {
   "cell_type": "code",
   "execution_count": 38,
   "id": "264c6e4d",
   "metadata": {},
   "outputs": [],
   "source": [
    "c5=c2[(c2['Location'] == 'Coimbatore')&(c2['cm'] == 'Swift')].groupby('Model')['Price'].mean()"
   ]
  },
  {
   "cell_type": "code",
   "execution_count": 55,
   "id": "2aa70430",
   "metadata": {
    "scrolled": false
   },
   "outputs": [
    {
     "data": {
      "text/plain": [
       "Location\n",
       "Agra         775000.0\n",
       "Ahmedabad    661000.0\n",
       "Bangalore    745000.0\n",
       "Name: Price, dtype: float64"
      ]
     },
     "execution_count": 55,
     "metadata": {},
     "output_type": "execute_result"
    }
   ],
   "source": [
    "c2[(c2['cm'] == 'Swift')&(c2['Year']==2021)].groupby('Location')['Price'].mean()"
   ]
  },
  {
   "cell_type": "code",
   "execution_count": null,
   "id": "62feeec5",
   "metadata": {},
   "outputs": [],
   "source": []
  },
  {
   "cell_type": "code",
   "execution_count": 58,
   "id": "c86a765b",
   "metadata": {
    "scrolled": false
   },
   "outputs": [
    {
     "data": {
      "text/plain": [
       "Location\n",
       "Bangalore    1099000.0\n",
       "Mumbai        425000.0\n",
       "Name: Price, dtype: float64"
      ]
     },
     "execution_count": 58,
     "metadata": {},
     "output_type": "execute_result"
    }
   ],
   "source": [
    "c2[(c2['cm'] == 'Rapid')&(c2['Kilometer']<30000)].groupby('Location')['Price'].mean()"
   ]
  },
  {
   "cell_type": "code",
   "execution_count": null,
   "id": "a6341efe",
   "metadata": {},
   "outputs": [],
   "source": []
  },
  {
   "cell_type": "code",
   "execution_count": null,
   "id": "8c2022f9",
   "metadata": {},
   "outputs": [],
   "source": []
  },
  {
   "cell_type": "code",
   "execution_count": null,
   "id": "3c7fee88",
   "metadata": {},
   "outputs": [],
   "source": [
    "#Dropping multiple columns \n",
    "cardata.drop(cardata.columns[[15,16,17,18,19]],axis=1, inplace=True)"
   ]
  },
  {
   "cell_type": "code",
   "execution_count": null,
   "id": "3719aab0",
   "metadata": {
    "scrolled": true
   },
   "outputs": [],
   "source": [
    "cardata.info()"
   ]
  },
  {
   "cell_type": "code",
   "execution_count": null,
   "id": "9563da73",
   "metadata": {
    "scrolled": true
   },
   "outputs": [],
   "source": [
    "cardata.describe(include='all')"
   ]
  },
  {
   "cell_type": "code",
   "execution_count": null,
   "id": "d932ae31",
   "metadata": {},
   "outputs": [],
   "source": [
    "ownerfil=['First']\n",
    "locfil=['Bangalore']\n",
    "Makefil=['Maruti Suzuki']\n",
    "Modelfil=['Swift']"
   ]
  },
  {
   "cell_type": "code",
   "execution_count": null,
   "id": "165faf39",
   "metadata": {},
   "outputs": [],
   "source": [
    "filtered = c3[c3[\"Owner\"].isin(ownerfil) & \n",
    "              c3[\"Location\"].isin(locfil) & c3[\"Make\"].isin(Makefil)& c3[\"Model\"].isin(\"Modelfil\")]"
   ]
  },
  {
   "cell_type": "code",
   "execution_count": null,
   "id": "27871f79",
   "metadata": {},
   "outputs": [],
   "source": [
    "c3.describe()"
   ]
  }
 ],
 "metadata": {
  "kernelspec": {
   "display_name": "Python 3 (ipykernel)",
   "language": "python",
   "name": "python3"
  },
  "language_info": {
   "codemirror_mode": {
    "name": "ipython",
    "version": 3
   },
   "file_extension": ".py",
   "mimetype": "text/x-python",
   "name": "python",
   "nbconvert_exporter": "python",
   "pygments_lexer": "ipython3",
   "version": "3.10.9"
  }
 },
 "nbformat": 4,
 "nbformat_minor": 5
}
